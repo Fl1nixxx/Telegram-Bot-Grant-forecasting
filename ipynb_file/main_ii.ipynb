{
  "cells": [
    {
      "cell_type": "markdown",
      "source": [
        "Импорт необходимых библиотек и скачивание файла"
      ],
      "metadata": {
        "id": "I7L4XTFnMrkH"
      }
    },
    {
      "cell_type": "code",
      "execution_count": 105,
      "metadata": {
        "id": "HF4f4rXYlV9k"
      },
      "outputs": [],
      "source": [
        "import pandas as pd\n",
        "import numpy as np\n",
        "np.random.seed(42)"
      ]
    },
    {
      "cell_type": "code",
      "execution_count": 106,
      "metadata": {
        "colab": {
          "base_uri": "https://localhost:8080/"
        },
        "id": "3Ny3RLttt9Er",
        "outputId": "ee84820f-bc87-479a-a051-9f0eb3f37777"
      },
      "outputs": [
        {
          "output_type": "stream",
          "name": "stdout",
          "text": [
            "Drive already mounted at /content/drive; to attempt to forcibly remount, call drive.mount(\"/content/drive\", force_remount=True).\n"
          ]
        }
      ],
      "source": [
        "from google.colab import drive\n",
        "drive.mount('/content/drive')"
      ]
    },
    {
      "cell_type": "code",
      "execution_count": 107,
      "metadata": {
        "id": "Q8K2D88EuMac"
      },
      "outputs": [],
      "source": [
        "csv_file_path = '/content/drive/MyDrive/data_grants_114_v20240218.csv'"
      ]
    },
    {
      "cell_type": "code",
      "execution_count": 108,
      "metadata": {
        "colab": {
          "base_uri": "https://localhost:8080/"
        },
        "collapsed": true,
        "id": "RR6rOw6Ctgzv",
        "outputId": "7de9c312-fb9d-47b3-fa97-1440e155c5ae"
      },
      "outputs": [
        {
          "output_type": "stream",
          "name": "stderr",
          "text": [
            "<ipython-input-108-39a4a1e4a2f4>:1: DtypeWarning: Columns (7) have mixed types. Specify dtype option on import or set low_memory=False.\n",
            "  data = pd.read_csv(csv_file_path, sep=';')\n"
          ]
        }
      ],
      "source": [
        "data = pd.read_csv(csv_file_path, sep=';')"
      ]
    },
    {
      "cell_type": "markdown",
      "source": [
        "Берем только часть данных, иначе они занимают слишком много памяти"
      ],
      "metadata": {
        "id": "McOdwaKcMqZQ"
      }
    },
    {
      "cell_type": "code",
      "source": [
        "data=data.sample(10000)"
      ],
      "metadata": {
        "id": "TaLlJMJeVqkn"
      },
      "execution_count": 109,
      "outputs": []
    },
    {
      "cell_type": "code",
      "execution_count": 110,
      "metadata": {
        "id": "hlryzQHiAxet"
      },
      "outputs": [],
      "source": [
        "data=data.reset_index()"
      ]
    },
    {
      "cell_type": "markdown",
      "source": [
        "Создаем новую фичу - время, которые люди планируют работать над проектом = (предполагаемое время начала проекта - время подачи заявки на грант)"
      ],
      "metadata": {
        "id": "s-t81E0UM6dz"
      }
    },
    {
      "cell_type": "code",
      "execution_count": 111,
      "metadata": {
        "id": "EO3JRZAdYi6M"
      },
      "outputs": [],
      "source": [
        "import datetime\n",
        "work_days = []\n",
        "for i in range(data.shape[0]):\n",
        "  date1 = datetime.datetime.strptime(data['date_req'][i],'%Y-%m-%d')\n",
        "  date2 = datetime.datetime.strptime(data['implem_end'][i],'%Y-%m-%d')\n",
        "  work_days.append(int((date2-date1).total_seconds()//86400))\n",
        "data = data.assign(work_days=work_days)"
      ]
    },
    {
      "cell_type": "markdown",
      "source": [
        "Удаление ненужных колонок"
      ],
      "metadata": {
        "id": "_TxP864ONVkv"
      }
    },
    {
      "cell_type": "code",
      "execution_count": 112,
      "metadata": {
        "collapsed": true,
        "id": "76bUI5Wftr4Y"
      },
      "outputs": [],
      "source": [
        "columns_to_drop = ['link','ogrn', 'okato', 'oktmo', 'req_num', 'implem_end', 'contacts', 'rate', 'date_req', 'implem_start', 'org', 'pj_geo', 'cofunding', 'total_money', 'inn', 'index']\n",
        "for i in columns_to_drop:\n",
        "  del data[i]"
      ]
    },
    {
      "cell_type": "code",
      "source": [
        "for i in data.columns:\n",
        "  print(i, data[i].nunique())"
      ],
      "metadata": {
        "colab": {
          "base_uri": "https://localhost:8080/"
        },
        "id": "K_RQqgweNjUC",
        "outputId": "d4cfaed1-b1e7-4170-bce6-858e224c9a05"
      },
      "execution_count": 113,
      "outputs": [
        {
          "output_type": "stream",
          "name": "stdout",
          "text": [
            "name 9753\n",
            "contest 17\n",
            "year 8\n",
            "direction 14\n",
            "region 87\n",
            "winner 2\n",
            "money_req_grant 9549\n",
            "description 9975\n",
            "goal 9909\n",
            "tasks 9933\n",
            "soc_signif 9957\n",
            "target_groups 8365\n",
            "work_days 305\n"
          ]
        }
      ]
    },
    {
      "cell_type": "markdown",
      "source": [
        "Т.к. в колонке direction всего 14 различных значений, мы можем выполнить one-hot encoding"
      ],
      "metadata": {
        "id": "uyM7uK7lNdQG"
      }
    },
    {
      "cell_type": "code",
      "execution_count": 114,
      "metadata": {
        "id": "V5qM2TV8Xomy"
      },
      "outputs": [],
      "source": [
        "data=pd.get_dummies(data, columns=[\"direction\"], drop_first=True)"
      ]
    },
    {
      "cell_type": "code",
      "source": [
        "data"
      ],
      "metadata": {
        "colab": {
          "base_uri": "https://localhost:8080/"
        },
        "id": "RYpDRfQgQa2o",
        "outputId": "b7fd0fb1-bbfe-4b16-f4c9-080ffc41e8b1"
      },
      "execution_count": 117,
      "outputs": [
        {
          "output_type": "execute_result",
          "data": {
            "text/plain": [
              "Index(['name', 'contest', 'year', 'region', 'winner', 'money_req_grant',\n",
              "       'description', 'goal', 'tasks', 'soc_signif', 'target_groups',\n",
              "       'work_days',\n",
              "       'direction_Защита прав и свобод человека и гражданина, в том числе защита прав заключенных',\n",
              "       'direction_Охрана здоровья граждан, пропаганда здорового образа жизни',\n",
              "       'direction_Охрана окружающей среды и защита животных',\n",
              "       'direction_Поддержка молодежных проектов, реализация которых охватывает виды деятельности, предусмотренные статьей 31 Федерального закона от 12 января 1996 г. № 7-ФЗ «О некоммерческих организациях»',\n",
              "       'direction_Поддержка молодежных проектов, реализация которых охватывает виды деятельности, предусмотренные статьей 31.1 Федерального закона от 12 января 1996 г. № 7-ФЗ «О некоммерческих организациях»',\n",
              "       'direction_Поддержка проектов в области культуры и искусства',\n",
              "       'direction_Поддержка проектов в области науки, образования, просвещения',\n",
              "       'direction_Поддержка семьи, материнства, отцовства и детства',\n",
              "       'direction_Развитие институтов гражданского общества',\n",
              "       'direction_Развитие общественной дипломатии и поддержка соотечественников',\n",
              "       'direction_Сохранение исторической памяти',\n",
              "       'direction_Социальное обслуживание, социальная поддержка и защита граждан',\n",
              "       'direction_Укрепление межнационального и межрелигиозного согласия'],\n",
              "      dtype='object')"
            ]
          },
          "metadata": {},
          "execution_count": 117
        }
      ]
    },
    {
      "cell_type": "code",
      "execution_count": 56,
      "metadata": {
        "id": "JDt4k9ekbcGc"
      },
      "outputs": [],
      "source": [
        "data=data.replace(False, 0)\n",
        "data=data.replace(True, 1)"
      ]
    },
    {
      "cell_type": "markdown",
      "source": [
        "Импортировали предтренированную модель, которая показывает уровень формальности тестов"
      ],
      "metadata": {
        "id": "Lxcg9n58OYpc"
      }
    },
    {
      "cell_type": "code",
      "execution_count": 57,
      "metadata": {
        "id": "CTfkXUe87CQH"
      },
      "outputs": [],
      "source": [
        "from joblib import load\n",
        "form_model = load('model.joblib')"
      ]
    },
    {
      "cell_type": "code",
      "execution_count": 58,
      "metadata": {
        "id": "5cjra30J8xxP"
      },
      "outputs": [],
      "source": [
        "data=data.reset_index()"
      ]
    },
    {
      "cell_type": "code",
      "execution_count": 59,
      "metadata": {
        "collapsed": true,
        "id": "Dyy6Nl_r7ktX"
      },
      "outputs": [],
      "source": [
        "form_desc=[]\n",
        "form_soc=[]\n",
        "form_task=[]\n",
        "form_goal=[]\n",
        "for i in range(10000):\n",
        "  form_desc.append(form_model.predict_proba([data[\"description\"][i]])[0][1])\n",
        "  form_soc.append(form_model.predict_proba([data[\"soc_signif\"][i]])[0][1])\n",
        "  form_task.append(form_model.predict_proba([data[\"tasks\"][i]])[0][1])\n",
        "  form_goal.append(form_model.predict_proba([data[\"goal\"][i]])[0][1])"
      ]
    },
    {
      "cell_type": "code",
      "execution_count": 60,
      "metadata": {
        "id": "Ro5UtqdA95TI"
      },
      "outputs": [],
      "source": [
        "data[\"form_desc\"]=form_desc\n",
        "data[\"form_soc\"]=form_soc\n",
        "data[\"form_task\"]=form_task\n",
        "data[\"form_goal\"]=form_goal\n",
        "del form_desc\n",
        "del form_soc\n",
        "del form_task\n",
        "del form_goal"
      ]
    },
    {
      "cell_type": "code",
      "execution_count": 61,
      "metadata": {
        "id": "jsYDbnUsDeM0"
      },
      "outputs": [],
      "source": [
        "numeric=['winner', 'money_req_grant', 'work_days',\n",
        "       'direction_Защита прав и свобод человека и гражданина, в том числе защита прав заключенных',\n",
        "       'direction_Охрана здоровья граждан, пропаганда здорового образа жизни',\n",
        "       'direction_Охрана окружающей среды и защита животных',\n",
        "       'direction_Поддержка молодежных проектов, реализация которых охватывает виды деятельности, предусмотренные статьей 31 Федерального закона от 12 января 1996 г. № 7-ФЗ «О некоммерческих организациях»',\n",
        "       'direction_Поддержка молодежных проектов, реализация которых охватывает виды деятельности, предусмотренные статьей 31.1 Федерального закона от 12 января 1996 г. № 7-ФЗ «О некоммерческих организациях»',\n",
        "       'direction_Поддержка проектов в области культуры и искусства',\n",
        "       'direction_Поддержка проектов в области науки, образования, просвещения',\n",
        "       'direction_Поддержка семьи, материнства, отцовства и детства',\n",
        "       'direction_Развитие институтов гражданского общества',\n",
        "       'direction_Развитие общественной дипломатии и поддержка соотечественников',\n",
        "       'direction_Сохранение исторической памяти',\n",
        "       'direction_Социальное обслуживание, социальная поддержка и защита граждан',\n",
        "       'direction_Укрепление межнационального и межрелигиозного согласия',\n",
        "       'form_desc', 'form_soc', 'form_task', 'form_goal']"
      ]
    },
    {
      "cell_type": "code",
      "execution_count": 62,
      "metadata": {
        "id": "xdTU8g09650_"
      },
      "outputs": [],
      "source": [
        "import string\n",
        "def remove_punctuations(text):\n",
        "    for punctuation in string.punctuation:\n",
        "        try:\n",
        "            text = text.replace(punctuation, '')\n",
        "        except:\n",
        "            print(\"Err\", text)\n",
        "    return text\n",
        "data[\"description\"] = data['description'].apply(remove_punctuations)\n",
        "data[\"goal\"] = data['goal'].apply(remove_punctuations)\n",
        "data[\"soc_signif\"] = data['soc_signif'].apply(remove_punctuations)\n",
        "data[\"target_groups\"] = data['target_groups'].apply(remove_punctuations)\n",
        "data['name'] = data['name'].apply(remove_punctuations)"
      ]
    },
    {
      "cell_type": "code",
      "execution_count": 63,
      "metadata": {
        "id": "xtucAObvbgYa"
      },
      "outputs": [],
      "source": [
        "y=data[\"winner\"]\n",
        "del data[\"winner\"]"
      ]
    },
    {
      "cell_type": "code",
      "execution_count": 64,
      "metadata": {
        "id": "Qitv8G-_j5qk"
      },
      "outputs": [],
      "source": [
        "import gensim\n",
        "from gensim.models import Word2Vec, KeyedVectors\n",
        "desc_apply=data.description.apply(gensim.utils.simple_preprocess)\n",
        "soc_apply=data.soc_signif.apply(gensim.utils.simple_preprocess)\n",
        "task_apply=data.tasks.apply(gensim.utils.simple_preprocess)\n",
        "goal_apply=data.goal.apply(gensim.utils.simple_preprocess)\n",
        "# model=gensim.models.Word2Vec(window=5, min_count=2, workers=4, sg=0)\n",
        "# model.build_vocab(response_new, progress_per=1000)\n",
        "# model.train(response_new, total_examples=model.corpus_count, epochs=model.epochs)"
      ]
    },
    {
      "cell_type": "markdown",
      "source": [
        "Также добавили перемнные для длин текстов(в словах)"
      ],
      "metadata": {
        "id": "vf5V9RScPnI6"
      }
    },
    {
      "cell_type": "code",
      "execution_count": 65,
      "metadata": {
        "id": "1ywFETAg_2Ru"
      },
      "outputs": [],
      "source": [
        "desc_len=[]\n",
        "soc_len=[]\n",
        "dir_len=[]\n",
        "task_len=[]\n",
        "goal_len=[]\n",
        "for i in range(10000):\n",
        "  desc_len.append(len(desc_apply[i]))\n",
        "  soc_len.append(len(soc_apply[i]))\n",
        "  task_len.append(len(task_apply[i]))\n",
        "  goal_len.append(len(goal_apply[i]))"
      ]
    },
    {
      "cell_type": "code",
      "execution_count": 66,
      "metadata": {
        "id": "WuYlASfkAb3L"
      },
      "outputs": [],
      "source": [
        "data[\"desc_len\"]=desc_len\n",
        "data[\"soc_len\"]=soc_len\n",
        "data[\"task_len\"]=task_len\n",
        "data[\"goal_len\"]=goal_len\n",
        "del desc_len\n",
        "del soc_len\n",
        "del task_len\n",
        "del goal_len"
      ]
    },
    {
      "cell_type": "code",
      "execution_count": 68,
      "metadata": {
        "id": "gpLFakh5-7op",
        "colab": {
          "base_uri": "https://localhost:8080/"
        },
        "outputId": "66985c65-0d51-46bf-adee-080a9ae46268"
      },
      "outputs": [
        {
          "output_type": "stream",
          "name": "stderr",
          "text": [
            "[nltk_data] Downloading package stopwords to /root/nltk_data...\n",
            "[nltk_data]   Package stopwords is already up-to-date!\n"
          ]
        }
      ],
      "source": [
        "import nltk\n",
        "nltk.download('stopwords')\n",
        "from nltk.corpus import stopwords\n",
        "stop_words = stopwords.words(\"russian\")"
      ]
    },
    {
      "cell_type": "markdown",
      "source": [
        "Векторизация слов"
      ],
      "metadata": {
        "id": "H7Ga9G-ARzun"
      }
    },
    {
      "cell_type": "code",
      "execution_count": 69,
      "metadata": {
        "id": "tO6sbNix2BIz"
      },
      "outputs": [],
      "source": [
        "from sklearn.model_selection import train_test_split\n",
        "from sklearn.feature_extraction.text import TfidfVectorizer\n",
        "X_train, X_test, y_train, y_test = train_test_split(data, y, random_state=0, train_size = .75, stratify=y)\n",
        "\n",
        "vc5 = TfidfVectorizer(max_features=4000, stop_words=stop_words)\n",
        "description_text = vc5.fit_transform(X_train['description'])\n",
        "test_description_text = vc5.transform(X_test['description'])\n",
        "\n",
        "vc6 = TfidfVectorizer(max_features=4000, stop_words=stop_words)\n",
        "goal_text = vc6.fit_transform(X_train['goal'])\n",
        "test_goal_text = vc6.transform(X_test['goal'])\n",
        "\n",
        "vc7 = TfidfVectorizer(max_features=4000, stop_words=stop_words)\n",
        "tasks_text = vc7.fit_transform(X_train['tasks'])\n",
        "test_tasks_text = vc7.transform(X_test['tasks'])\n",
        "\n",
        "vc8 = TfidfVectorizer(max_features=4000, stop_words=stop_words)\n",
        "soc_signif = vc8.fit_transform(X_train['soc_signif'])\n",
        "test_soc_signif = vc8.transform(X_test['soc_signif'])\n",
        "\n",
        "del X_train[\"description\"]\n",
        "del X_test[\"description\"]\n",
        "del X_train[\"goal\"]\n",
        "del X_test[\"goal\"]\n",
        "del X_train[\"tasks\"]\n",
        "del X_test[\"tasks\"]\n",
        "del X_train[\"soc_signif\"]\n",
        "del X_test[\"soc_signif\"]"
      ]
    },
    {
      "cell_type": "code",
      "source": [
        "from joblib import dump\n",
        "dump(vc8, 'vc_soc.joblib')"
      ],
      "metadata": {
        "colab": {
          "base_uri": "https://localhost:8080/"
        },
        "id": "BNOATzLNImLt",
        "outputId": "97031b58-cfd7-4244-8122-9ed07b1761bb"
      },
      "execution_count": 95,
      "outputs": [
        {
          "output_type": "execute_result",
          "data": {
            "text/plain": [
              "['vc_soc.joblib']"
            ]
          },
          "metadata": {},
          "execution_count": 95
        }
      ]
    },
    {
      "cell_type": "code",
      "execution_count": 77,
      "metadata": {
        "id": "fqCIoO_u33xw"
      },
      "outputs": [],
      "source": [
        "features_description = [f'text45_{i}' for i in range(description_text.shape[1])]\n",
        "test_features_description = [f'text45_{i}' for i in range(test_description_text.shape[1])]\n",
        "\n",
        "\n",
        "features_goal = [f'text5_{i}' for i in range(goal_text.shape[1])]\n",
        "test_features_goal = [f'text5_{i}' for i in range(test_goal_text.shape[1])]\n",
        "\n",
        "\n",
        "features_tasks = [f'text6_{i}' for i in range(tasks_text.shape[1])]\n",
        "test_features_tasks = [f'text6_{i}' for i in range(test_tasks_text.shape[1])]\n",
        "\n",
        "\n",
        "features_soc_signif = [f'text654_{i}' for i in range(soc_signif.shape[1])]\n",
        "test_features_soc_signif = [f'text654_{i}' for i in range(test_soc_signif.shape[1])]"
      ]
    },
    {
      "cell_type": "code",
      "execution_count": 78,
      "metadata": {
        "id": "Dv2527qEB7gK"
      },
      "outputs": [],
      "source": [
        "description_text = pd.DataFrame(description_text.toarray(), columns = features_description)\n",
        "test_description_text = pd.DataFrame(test_description_text.toarray(), columns = test_features_description)\n",
        "\n",
        "\n",
        "goal_text = pd.DataFrame(goal_text.toarray(), columns = features_goal)\n",
        "test_goal_text = pd.DataFrame(test_goal_text.toarray(), columns = test_features_goal)\n",
        "\n",
        "\n",
        "tasks_text = pd.DataFrame(tasks_text.toarray(), columns = features_tasks)\n",
        "test_tasks_text = pd.DataFrame(test_tasks_text.toarray(), columns = test_features_tasks)\n",
        "\n",
        "\n",
        "soc_signif = pd.DataFrame(soc_signif.toarray(), columns = features_soc_signif)\n",
        "test_soc_signif = pd.DataFrame(test_soc_signif.toarray(), columns = test_features_soc_signif)\n"
      ]
    },
    {
      "cell_type": "code",
      "execution_count": 79,
      "metadata": {
        "id": "D6Qx80j3bvBR"
      },
      "outputs": [],
      "source": [
        "X_train.reset_index(drop = True, inplace=True)\n",
        "X_test.reset_index(drop=True, inplace=True)"
      ]
    },
    {
      "cell_type": "code",
      "execution_count": 80,
      "metadata": {
        "id": "HPWqeSHpD5I5"
      },
      "outputs": [],
      "source": [
        "X_train = pd.concat([X_train[['money_req_grant','form_desc', 'form_soc',\n",
        "       'form_task', 'form_goal', 'desc_len', 'soc_len',\n",
        "       'task_len', 'goal_len', 'work_days', 'year']], goal_text, tasks_text, soc_signif, description_text], axis='columns')\n",
        "\n",
        "X_test = pd.concat([X_test[['money_req_grant','form_desc', 'form_soc',\n",
        "        'form_task', 'form_goal', 'desc_len', 'soc_len',\n",
        "       'task_len', 'goal_len', 'work_days', 'year']], test_goal_text, test_tasks_text, test_soc_signif, test_description_text], axis='columns')\n",
        "X_train_goal=pd.concat([X_train[['form_goal', 'goal_len']], goal_text], axis='columns')\n",
        "X_test_goal=pd.concat([X_test[['form_goal', 'goal_len']], test_goal_text], axis='columns')\n",
        "\n",
        "X_train_tasks=pd.concat([X_train[['form_task', 'task_len']], tasks_text], axis='columns')\n",
        "X_test_tasks=pd.concat([X_test[['form_task', 'task_len']], test_tasks_text], axis='columns')\n",
        "\n",
        "X_train_soc=pd.concat([X_train[['form_soc', 'soc_len']], soc_signif], axis='columns')\n",
        "X_test_soc=pd.concat([X_test[['form_soc', 'soc_len']], test_soc_signif], axis='columns')\n",
        "\n",
        "X_train_description=pd.concat([X_train[['form_desc', 'desc_len']], description_text], axis='columns')\n",
        "X_test_description=pd.concat([X_test[['form_desc', 'desc_len']], test_description_text], axis='columns')\n",
        "del description_text\n",
        "del test_description_text\n",
        "del goal_text\n",
        "del test_goal_text\n",
        "del tasks_text\n",
        "del test_tasks_text\n",
        "del soc_signif\n",
        "del test_soc_signif\n",
        "\n",
        "del features_description\n",
        "del test_features_description\n",
        "del features_goal\n",
        "del test_features_goal\n",
        "del features_tasks\n",
        "del test_features_tasks\n",
        "del features_soc_signif\n",
        "del test_features_soc_signif"
      ]
    },
    {
      "cell_type": "markdown",
      "source": [
        "Мы выбрали именно BernoulliNB, т.к. при переборе всех моделей эта показала лучший результат"
      ],
      "metadata": {
        "id": "qik_GjxNSOZu"
      }
    },
    {
      "cell_type": "code",
      "source": [
        "from sklearn.naive_bayes import BernoulliNB\n",
        "from sklearn.metrics import accuracy_score\n",
        "bern_main=BernoulliNB()\n",
        "bern_main.fit(X_train, y_train)\n",
        "print(\"Бернулли_main: \", accuracy_score(bern_main.predict(X_test)>0.5, y_test))\n",
        "bern_goal=BernoulliNB()\n",
        "bern_goal.fit(X_train_goal, y_train)\n",
        "print(\"Бернулли_goal: \", accuracy_score(bern_goal.predict(X_test_goal)>0.5, y_test))\n",
        "bern_desc=BernoulliNB()\n",
        "bern_desc.fit(X_train_description, y_train)\n",
        "print(\"Бернулли_desc: \", accuracy_score(bern_desc.predict(X_test_description)>0.5, y_test))\n",
        "bern_tasks=BernoulliNB()\n",
        "bern_tasks.fit(X_train_tasks, y_train)\n",
        "print(\"Бернулли_tasks: \", accuracy_score(bern_tasks.predict(X_test_tasks)>0.5, y_test))\n",
        "bern_soc=BernoulliNB()\n",
        "bern_soc.fit(X_train_soc, y_train)\n",
        "print(\"Бернулли_soc: \", accuracy_score(bern_soc.predict(X_test_soc)>0.5, y_test))"
      ],
      "metadata": {
        "colab": {
          "base_uri": "https://localhost:8080/"
        },
        "id": "-WLS-WCEY9zg",
        "outputId": "dbda85ac-2e34-4062-d4b6-8c19d502e46d"
      },
      "execution_count": 83,
      "outputs": [
        {
          "output_type": "stream",
          "name": "stdout",
          "text": [
            "Бернулли_main:  0.6876\n",
            "Бернулли_goal:  0.7424\n",
            "Бернулли_desc:  0.6784\n",
            "Бернулли_tasks:  0.7168\n",
            "Бернулли_soc:  0.6588\n"
          ]
        }
      ]
    },
    {
      "cell_type": "code",
      "source": [
        "from sklearn.metrics import f1_score\n",
        "print(\"Бернулли_main: \", f1_score(bern_main.predict(X_test)>0.5, y_test))\n",
        "print(\"Бернулли_goal: \", f1_score(bern_goal.predict(X_test_goal)>0.5, y_test))\n",
        "print(\"Бернулли_desc: \", f1_score(bern_desc.predict(X_test_description)>0.5, y_test))\n",
        "print(\"Бернулли_tasks: \", f1_score(bern_tasks.predict(X_test_tasks)>0.5, y_test))\n",
        "print(\"Бернулли_soc: \", f1_score(bern_soc.predict(X_test_soc)>0.5, y_test))"
      ],
      "metadata": {
        "colab": {
          "base_uri": "https://localhost:8080/"
        },
        "id": "zxks5r1zGL-W",
        "outputId": "bd9d1afc-44c7-473d-c98a-49fd178a8c38"
      },
      "execution_count": 85,
      "outputs": [
        {
          "output_type": "stream",
          "name": "stdout",
          "text": [
            "Бернулли_main:  0.3686337914308812\n",
            "Бернулли_goal:  0.22033898305084745\n",
            "Бернулли_desc:  0.36990595611285265\n",
            "Бернулли_tasks:  0.24840764331210188\n",
            "Бернулли_soc:  0.34334103156274054\n"
          ]
        }
      ]
    },
    {
      "cell_type": "code",
      "source": [
        "from joblib import dump\n",
        "dump(bern_main, 'bern_main.joblib')"
      ],
      "metadata": {
        "colab": {
          "base_uri": "https://localhost:8080/"
        },
        "id": "fd0RLBk-Gkya",
        "outputId": "6cb928ea-d396-494d-a1e5-58a7e9db9280"
      },
      "execution_count": 118,
      "outputs": [
        {
          "output_type": "execute_result",
          "data": {
            "text/plain": [
              "['bern_main.joblib']"
            ]
          },
          "metadata": {},
          "execution_count": 118
        }
      ]
    }
  ],
  "metadata": {
    "accelerator": "GPU",
    "colab": {
      "gpuType": "T4",
      "provenance": []
    },
    "kernelspec": {
      "display_name": "Python 3",
      "name": "python3"
    },
    "language_info": {
      "name": "python"
    }
  },
  "nbformat": 4,
  "nbformat_minor": 0
}
